{
 "cells": [
  {
   "cell_type": "code",
   "execution_count": 4,
   "metadata": {},
   "outputs": [],
   "source": [
    "import numpy as np\n",
    "import keras\n",
    "from keras.models import Sequential, load_model\n",
    "from keras.layers import Dense, Activation, Flatten, Conv2D, MaxPool2D\n",
    "from keras.datasets import cifar10\n",
    "from keras.applications.vgg16 import VGG16\n",
    "from keras.applications.nasnet import NASNetMobile\n",
    "from keras.applications.mobilenet import MobileNet\n",
    "from keras.utils import np_utils\n",
    "import matplotlib.pyplot as plt\n",
    "from pandas import DataFrame\n",
    "\n",
    "%matplotlib inline"
   ]
  },
  {
   "cell_type": "markdown",
   "metadata": {},
   "source": [
    "## Load Data"
   ]
  },
  {
   "cell_type": "code",
   "execution_count": 5,
   "metadata": {},
   "outputs": [],
   "source": [
    "(x_train, y_train), (x_test, y_test) = cifar10.load_data()"
   ]
  },
  {
   "cell_type": "code",
   "execution_count": 6,
   "metadata": {},
   "outputs": [
    {
     "name": "stdout",
     "output_type": "stream",
     "text": [
      "[7]\n"
     ]
    },
    {
     "data": {
      "text/plain": [
       "<matplotlib.image.AxesImage at 0x12ad6dba8>"
      ]
     },
     "execution_count": 6,
     "metadata": {},
     "output_type": "execute_result"
    },
    {
     "data": {
      "image/png": "[encoded data removed]",
      "text/plain": [
       "<Figure size 432x288 with 1 Axes>"
      ]
     },
     "metadata": {},
     "output_type": "display_data"
    }
   ],
   "source": [
    "print(y_train[7])   #Convince yourself that the labels are consistent with the data.  See https://www.cs.toronto.edu/~kriz/cifar.html\n",
    "plt.imshow(x_train[7,:,:,:])"
   ]
  },
  {
   "cell_type": "markdown",
   "metadata": {},
   "source": [
    "## Clean Data"
   ]
  },
  {
   "cell_type": "code",
   "execution_count": 7,
   "metadata": {},
   "outputs": [
    {
     "name": "stdout",
     "output_type": "stream",
     "text": [
      "(50000, 3072)\n"
     ]
    }
   ],
   "source": [
    "x_train_unrolled = x_train.reshape(-1,32*32*3) / 256\n",
    "print(x_train_unrolled.shape)\n",
    "y_train_encoded = np_utils.to_categorical(y_train)\n",
    "\n",
    "x_test_unrolled = x_test.reshape(-1,32*32*3) / 256\n",
    "y_test_encoded = np_utils.to_categorical(y_test)"
   ]
  },
  {
   "cell_type": "markdown",
   "metadata": {},
   "source": [
    "## Load Existing Neural Net"
   ]
  },
  {
   "cell_type": "code",
   "execution_count": null,
   "metadata": {},
   "outputs": [],
   "source": []
  },
  {
   "cell_type": "code",
   "execution_count": 25,
   "metadata": {},
   "outputs": [],
   "source": [
    "fresh = MobileNet(include_top = False, weights=None)\n",
    "#fresh.summary()"
   ]
  },
  {
   "cell_type": "code",
   "execution_count": 26,
   "metadata": {},
   "outputs": [
    {
     "name": "stdout",
     "output_type": "stream",
     "text": [
      "Epoch 1/10\n",
      "50000/50000 [==============================] - 55s 1ms/step - loss: 2.0837 - acc: 0.2262\n",
      "Epoch 2/10\n",
      "50000/50000 [==============================] - 47s 943us/step - loss: 1.9599 - acc: 0.2878\n",
      "Epoch 3/10\n",
      "50000/50000 [==============================] - 45s 902us/step - loss: 1.9286 - acc: 0.2998\n",
      "Epoch 4/10\n",
      "50000/50000 [==============================] - 47s 943us/step - loss: 1.9155 - acc: 0.3113\n",
      "Epoch 5/10\n",
      "50000/50000 [==============================] - 52s 1ms/step - loss: 1.9022 - acc: 0.3166\n",
      "Epoch 6/10\n",
      "50000/50000 [==============================] - 55s 1ms/step - loss: 1.8841 - acc: 0.3263\n",
      "Epoch 7/10\n",
      "50000/50000 [==============================] - 53s 1ms/step - loss: 1.8716 - acc: 0.3313\n",
      "Epoch 8/10\n",
      "50000/50000 [==============================] - 54s 1ms/step - loss: 1.8652 - acc: 0.3351\n",
      "Epoch 9/10\n",
      "50000/50000 [==============================] - 54s 1ms/step - loss: 1.8604 - acc: 0.3353\n",
      "Epoch 10/10\n",
      "50000/50000 [==============================] - 56s 1ms/step - loss: 1.8421 - acc: 0.3442\n"
     ]
    }
   ],
   "source": [
    "rand_init_model = Sequential()\n",
    "\n",
    "rand_init_model.add(Dense(32,input_dim=(32*32*3), activation = 'sigmoid',name='cifar10_adapter'))\n",
    "rand_init_model.layers.extend(fresh.layers[1:])\n",
    "rand_init_model.add(Dense(10,activation = 'softmax'))\n",
    "\n",
    "rand_init_model.compile(optimizer = 'adam', loss = 'categorical_crossentropy', metrics = ['accuracy'])\n",
    "history_fresh = rand_init_model.fit(x_train_unrolled,y_train_encoded, epochs=15, batch_size = 4)\n",
    "\n"
   ]
  },
  {
   "cell_type": "code",
   "execution_count": 31,
   "metadata": {},
   "outputs": [
    {
     "data": {
      "text/plain": [
       "[<matplotlib.lines.Line2D at 0x1a164eb70>]"
      ]
     },
     "execution_count": 31,
     "metadata": {},
     "output_type": "execute_result"
    },
    {
     "data": {
      "image/png": "[encoded data removed]",
      "text/plain": [
       "<Figure size 432x288 with 1 Axes>"
      ]
     },
     "metadata": {},
     "output_type": "display_data"
    }
   ],
   "source": [
    "plt.plot(history_fresh.history['loss'])\n",
    "#plt.plot(history_fresh.history['acc'])"
   ]
  },
  {
   "cell_type": "code",
   "execution_count": null,
   "metadata": {},
   "outputs": [],
   "source": []
  },
  {
   "cell_type": "code",
   "execution_count": null,
   "metadata": {},
   "outputs": [],
   "source": []
  },
  {
   "cell_type": "code",
   "execution_count": null,
   "metadata": {},
   "outputs": [],
   "source": []
  },
  {
   "cell_type": "code",
   "execution_count": null,
   "metadata": {},
   "outputs": [],
   "source": []
  },
  {
   "cell_type": "code",
   "execution_count": 28,
   "metadata": {},
   "outputs": [],
   "source": [
    "#Documentation for MobileNet says smaller shapes allowed, but throws error.  https://keras.io/applications/#mobilenet\n",
    "#Thus, we have to adapt a new model to take the dimensions of our data (32,32,3).\n",
    "#Initializing w/ input_shape will create input layer which we will later remove.  Hacky.\n",
    "trained_model = MobileNet(input_shape = (128,128,3),include_top = False, weights='imagenet') "
   ]
  },
  {
   "cell_type": "code",
   "execution_count": 29,
   "metadata": {},
   "outputs": [
    {
     "name": "stdout",
     "output_type": "stream",
     "text": [
      "Epoch 1/10\n",
      "50000/50000 [==============================] - 59s 1ms/step - loss: 2.0488 - acc: 0.2374\n",
      "Epoch 2/10\n",
      "50000/50000 [==============================] - 59s 1ms/step - loss: 1.9405 - acc: 0.2964\n",
      "Epoch 3/10\n",
      "50000/50000 [==============================] - 53s 1ms/step - loss: 1.9256 - acc: 0.3070\n",
      "Epoch 4/10\n",
      "50000/50000 [==============================] - 59s 1ms/step - loss: 1.8966 - acc: 0.3170\n",
      "Epoch 5/10\n",
      "50000/50000 [==============================] - 56s 1ms/step - loss: 1.8775 - acc: 0.3237\n",
      "Epoch 6/10\n",
      "50000/50000 [==============================] - 55s 1ms/step - loss: 1.8659 - acc: 0.3323\n",
      "Epoch 7/10\n",
      "50000/50000 [==============================] - 55s 1ms/step - loss: 1.8624 - acc: 0.3356\n",
      "Epoch 8/10\n",
      "50000/50000 [==============================] - 52s 1ms/step - loss: 1.8536 - acc: 0.3378\n",
      "Epoch 9/10\n",
      "50000/50000 [==============================] - 57s 1ms/step - loss: 1.8421 - acc: 0.3420\n",
      "Epoch 10/10\n",
      "50000/50000 [==============================] - 62s 1ms/step - loss: 1.8376 - acc: 0.3447\n",
      "CPU times: user 12min 52s, sys: 3min 40s, total: 16min 33s\n",
      "Wall time: 9min 27s\n"
     ]
    }
   ],
   "source": [
    "%%time\n",
    "\n",
    "\n",
    "#Create new model to add the trained model into.  \n",
    "transfer_model = Sequential()\n",
    "transfer_model.add(Dense(32,input_dim=(32*32*3), activation = 'sigmoid',name='cifar10_adapter'))\n",
    "    \n",
    "    \n",
    "#Extend list of layers to include layers of trained_model, except for the first input layer.\n",
    "#Check summary on model to see the layer structures.\n",
    "#Remember, include_top = False has already chopped off the classification layers.\n",
    "transfer_model.layers.extend(trained_model.layers[1:])\n",
    "transfer_model.add(Dense(10, activation = 'softmax'))\n",
    "\n",
    "#Experiment: freeze all trainable params.  What do you expect to happen to the acc?  Check summary.\n",
    "#new_model.trainable = False  \n",
    "\n",
    "\n",
    "transfer_model.compile(optimizer = 'adam',loss = 'categorical_crossentropy',metrics=['accuracy'])\n",
    "history_transfer = transfer_model.fit(x_train_unrolled,y_train_encoded,epochs=15,batch_size=4)\n"
   ]
  },
  {
   "cell_type": "code",
   "execution_count": null,
   "metadata": {},
   "outputs": [],
   "source": [
    "#transfer_model.summary()"
   ]
  },
  {
   "cell_type": "code",
   "execution_count": 30,
   "metadata": {},
   "outputs": [
    {
     "data": {
      "text/plain": [
       "[<matplotlib.lines.Line2D at 0x1a0eb9ba8>]"
      ]
     },
     "execution_count": 30,
     "metadata": {},
     "output_type": "execute_result"
    },
    {
     "data": {
      "image/png": "[encoded data removed]",
      "text/plain": [
       "<Figure size 432x288 with 1 Axes>"
      ]
     },
     "metadata": {},
     "output_type": "display_data"
    }
   ],
   "source": [
    "plt.plot(history_transfer.history['loss'])"
   ]
  },
  {
   "cell_type": "code",
   "execution_count": null,
   "metadata": {},
   "outputs": [],
   "source": []
  },
  {
   "cell_type": "code",
   "execution_count": null,
   "metadata": {},
   "outputs": [],
   "source": []
  },
  {
   "cell_type": "code",
   "execution_count": null,
   "metadata": {},
   "outputs": [],
   "source": []
  },
  {
   "cell_type": "code",
   "execution_count": null,
   "metadata": {},
   "outputs": [],
   "source": []
  },
  {
   "cell_type": "code",
   "execution_count": null,
   "metadata": {},
   "outputs": [],
   "source": []
  }
 ],
 "metadata": {
  "kernelspec": {
   "display_name": "keras",
   "language": "python",
   "name": "keras"
  },
  "language_info": {
   "codemirror_mode": {
    "name": "ipython",
    "version": 3
   },
   "file_extension": ".py",
   "mimetype": "text/x-python",
   "name": "python",
   "nbconvert_exporter": "python",
   "pygments_lexer": "ipython3",
   "version": "3.6.5"
  }
 },
 "nbformat": 4,
 "nbformat_minor": 2
}
